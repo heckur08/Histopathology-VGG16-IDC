{
 "cells": [
  {
   "cell_type": "markdown",
   "metadata": {},
   "source": [
    "# National Institute of Technology Karnataka"
   ]
  },
  {
   "cell_type": "markdown",
   "metadata": {},
   "source": [
    "Import all the necessary libraries"
   ]
  },
  {
   "cell_type": "code",
   "execution_count": 1,
   "metadata": {
    "_cell_guid": "1b54c774-49b1-4b3f-8e45-1569771bd41a",
    "_uuid": "659a95cf-f1b5-4d65-ba8c-13a9c9a21956",
    "id": "iKJVI6zijIXw"
   },
   "outputs": [
    {
     "name": "stdout",
     "output_type": "stream",
     "text": [
      "CUDA ::  True\n"
     ]
    }
   ],
   "source": [
    "%matplotlib inline\n",
    "# Import torch libraries\n",
    "import torch\n",
    "import torch.nn as nn\n",
    "import torch.optim as optim\n",
    "import torchvision\n",
    "import torchvision.transforms as transforms\n",
    "from torch.utils.data import Dataset, DataLoader\n",
    "\n",
    "# Import non-deeplearning libraries\n",
    "from tqdm.notebook import tqdm\n",
    "import os\n",
    "import numpy as np\n",
    "import pandas as pd\n",
    "from sklearn.model_selection import train_test_split\n",
    "from sklearn.metrics import accuracy_score, f1_score, jaccard_score, precision_score, recall_score\n",
    "from sklearn.metrics import confusion_matrix\n",
    "from glob import glob\n",
    "\n",
    "# Import libraries for images manipulation and visualization\n",
    "import matplotlib.pyplot as plt\n",
    "import cv2\n",
    "\n",
    "# Check if a GPU is available\n",
    "CUDA = torch.cuda.is_available()\n",
    "print(\"CUDA :: \", CUDA)\n",
    "device = torch.device(\"cuda\" if CUDA else \"cpu\")"
   ]
  },
  {
   "cell_type": "markdown",
   "metadata": {
    "id": "CW5hF8kzTST6"
   },
   "source": [
    "# Model definition"
   ]
  },
  {
   "cell_type": "markdown",
   "metadata": {},
   "source": [
    "The base paper for the VGG net can be found [here](https://arxiv.org/pdf/1409.1556.pdf)"
   ]
  },
  {
   "cell_type": "code",
   "execution_count": 2,
   "metadata": {
    "_cell_guid": "19035019-5e84-49a3-a4dd-743d114db480",
    "_uuid": "5eb7f6d5-679b-4ada-8935-fb759346de20",
    "id": "G7BcVZR1q4U8"
   },
   "outputs": [],
   "source": [
    "class VGG16(nn.Module):\n",
    "    def __init__(self, hidden = 64, no_of_classes=2, kernel_size=(3,3), padding=1, stride=(1,1)):\n",
    "        super(VGG16, self).__init__()\n",
    "        '''\n",
    "        Initializes the layers for the neral network model. The VGG-16 with Batch Normalization is used\n",
    "        \n",
    "        Arguments:\n",
    "        hidden  --  The number of channels for the first layer. The no of channels for the consequent layers are a multiple of this number\n",
    "        no_of_classes --  The number of output classes\n",
    "        kernel_size  --  Filter Size for the Conv layers\n",
    "        padding  --  Padding for the Conv layers. For SAME conv, padding = (kernel_size - 1)/2\n",
    "        stride  --  Stride for the Conv layers\n",
    "        \n",
    "        Return:\n",
    "        None\n",
    "        '''\n",
    "        # Input Shape is 64x64\n",
    "        # Block 1. It consists of the Conv layers till the first max pooling layer\n",
    "        self.conv1 = nn.Conv2d(in_channels=3, out_channels=hidden, kernel_size=kernel_size, padding=padding, stride=stride)\n",
    "        self.bn1 = nn.BatchNorm2d(num_features = hidden)\n",
    "        self.conv2 = nn.Conv2d(in_channels=hidden, out_channels=hidden, kernel_size=kernel_size, padding=padding, stride=stride)\n",
    "        self.bn2 = nn.BatchNorm2d(num_features = hidden)\n",
    "        self.max1  = nn.MaxPool2d(kernel_size = (2,2), stride = 2)\n",
    "\n",
    "        # Block 2. It consists of the Conv layers till the second max pooling layer\n",
    "        self.conv3 = nn.Conv2d(in_channels=hidden, out_channels=2*hidden, kernel_size=kernel_size, padding=padding, stride=stride)\n",
    "        self.bn3 = nn.BatchNorm2d(num_features = 2*hidden)\n",
    "        self.conv4 = nn.Conv2d(in_channels=2*hidden, out_channels=2*hidden, kernel_size=kernel_size, padding=padding, stride=stride)\n",
    "        self.bn4 = nn.BatchNorm2d(num_features = 2*hidden)\n",
    "        self.max2  = nn.MaxPool2d(kernel_size = (2,2), stride = 2)\n",
    "\n",
    "        # Block 3. It consists of the Conv layers till the third max pooling layer\n",
    "        self.conv5 = nn.Conv2d(in_channels=2*hidden, out_channels=4*hidden, kernel_size=kernel_size, padding=padding, stride=stride)\n",
    "        self.bn5 = nn.BatchNorm2d(num_features = 4*hidden)\n",
    "        self.conv6 = nn.Conv2d(in_channels=4*hidden, out_channels=4*hidden, kernel_size=kernel_size, padding=padding, stride=stride)\n",
    "        self.bn6 = nn.BatchNorm2d(num_features = 4*hidden)\n",
    "        self.conv7 = nn.Conv2d(in_channels=4*hidden, out_channels=4*hidden, kernel_size=kernel_size, padding=padding, stride=stride)\n",
    "        self.bn7 = nn.BatchNorm2d(num_features = 4*hidden)\n",
    "        self.max3  = nn.MaxPool2d(kernel_size = (2,2), stride = 2)\n",
    "\n",
    "        # Block 4. It consists of the Conv layers till the fourth max pooling layer\n",
    "        self.conv8  = nn.Conv2d(in_channels=4*hidden, out_channels=8*hidden, kernel_size=kernel_size, padding=padding, stride=stride)\n",
    "        self.bn8 = nn.BatchNorm2d(num_features = 8*hidden)\n",
    "        self.conv9  = nn.Conv2d(in_channels=8*hidden, out_channels=8*hidden, kernel_size=kernel_size, padding=padding, stride=stride)\n",
    "        self.bn9 = nn.BatchNorm2d(num_features = 8*hidden)\n",
    "        self.conv10 = nn.Conv2d(in_channels=8*hidden, out_channels=8*hidden, kernel_size=kernel_size, padding=padding, stride=stride)\n",
    "        self.bn10 = nn.BatchNorm2d(num_features = 8*hidden)\n",
    "        self.max4  = nn.MaxPool2d(kernel_size = (2,2), stride = 2)\n",
    "\n",
    "        # Block 5. It consists of the Conv layers till the fifth max pooling layer\n",
    "        self.conv11 = nn.Conv2d(in_channels=8*hidden, out_channels=8*hidden, kernel_size=kernel_size, padding=padding, stride=stride)\n",
    "        self.bn11 = nn.BatchNorm2d(num_features = 8*hidden)\n",
    "        self.conv12 = nn.Conv2d(in_channels=8*hidden, out_channels=8*hidden, kernel_size=kernel_size, padding=padding, stride=stride)\n",
    "        self.bn12 = nn.BatchNorm2d(num_features = 8*hidden)\n",
    "        self.conv13 = nn.Conv2d(in_channels=8*hidden, out_channels=8*hidden, kernel_size=kernel_size, padding=padding, stride=stride)\n",
    "        self.bn13 = nn.BatchNorm2d(num_features = 8*hidden)\n",
    "        self.max5  = nn.MaxPool2d(kernel_size = (2,2), stride = 2)\n",
    "\n",
    "        # Fully connected layers and Classification\n",
    "        # in_features = dim x dim x 512\n",
    "        # dim = input_shape / 32. Dimensions after the 32x downsampling\n",
    "        self.fc1 = nn.Linear(in_features=2*2*512, out_features = 4096)\n",
    "        self.fc2 = nn.Linear(in_features=4096, out_features = 4096)\n",
    "        self.final_layer = nn.Linear(in_features=4096, out_features=no_of_classes)\n",
    "\n",
    "    def forward(self, x):\n",
    "        '''\n",
    "        Forward propogation of the model. The ReLU activations are used for the Conv layers\n",
    "        \n",
    "        Arguments:\n",
    "        x  --  Input to the VGG network\n",
    "        \n",
    "        Returns\n",
    "        y  --  Output of the VGG network\n",
    "        '''\n",
    "        # Block 1\n",
    "        x_1 = nn.ReLU()(self.bn1(self.conv1(x)))\n",
    "        x_1 = nn.ReLU()(self.bn2(self.conv2(x_1)))\n",
    "        x_1 = self.max1(x_1)\n",
    "\n",
    "        # Block 2\n",
    "        x_2 = nn.ReLU()(self.bn3(self.conv3(x_1)))\n",
    "        x_2 = nn.ReLU()(self.bn4(self.conv4(x_2)))\n",
    "        x_2 = self.max2(x_2)\n",
    "\n",
    "        # Block 3\n",
    "        x_3 = nn.ReLU()(self.bn5(self.conv5(x_2)))\n",
    "        x_3 = nn.ReLU()(self.bn6(self.conv6(x_3)))\n",
    "        x_3 = nn.ReLU()(self.bn7(self.conv7(x_3)))\n",
    "        x_3 = self.max3(x_3)\n",
    "\n",
    "        # Block 4\n",
    "        x_4 = nn.ReLU()(self.bn8(self.conv8(x_3)))\n",
    "        x_4 = nn.ReLU()(self.bn9(self.conv9(x_4)))\n",
    "        x_4 = nn.ReLU()(self.bn10(self.conv10(x_4)))\n",
    "        x_4 = self.max4(x_4)\n",
    "\n",
    "        # Block 5\n",
    "        x_5 = nn.ReLU()(self.bn11(self.conv11(x_4)))\n",
    "        x_5 = nn.ReLU()(self.bn12(self.conv12(x_5)))\n",
    "        x_5 = nn.ReLU()(self.bn13(self.conv12(x_5)))\n",
    "        x_5 = self.max5(x_5)\n",
    "\n",
    "        # The 32x downsampled image is flattened and passed through Linear and Classification layers\n",
    "        x_flat = nn.Flatten()(x_5)\n",
    "        x_fc = self.fc1(x_flat)\n",
    "        x_fc = self.fc2(x_fc)\n",
    "        y = self.final_layer(x_fc)\n",
    "        return y"
   ]
  },
  {
   "cell_type": "code",
   "execution_count": 3,
   "metadata": {
    "_cell_guid": "e3d3485f-8fee-43e6-a752-c6e20a1baa62",
    "_uuid": "f2d8216c-7a90-4a9f-a264-4ce05b98d020",
    "id": "1fieINJkp_N0"
   },
   "outputs": [],
   "source": [
    "# Hyper parameters for the model\n",
    "num_classes = 2\n",
    "batch_size = 64\n",
    "learning_rate = 0.001\n",
    "\n",
    "# Instantiate Model and mount it on the relavent device\n",
    "vgg16model = VGG16()\n",
    "vgg16model.to(device)\n",
    "\n",
    "# Relavent PATHs for saving the model and loading the data\n",
    "DATASET_FOLDER_PATH = '../input/breast-histopathology-images/'\n",
    "CHECKPOINT_PATH = ''\n",
    "LOAD_PICKLE = True\n",
    "PICKLE_PATH = '../input/inputfiles/images_files_data.pkl'\n",
    "\n",
    "# Instantiate Optimzer and Loss Function. The L2 regularization penalty factor is 0.0005\n",
    "criterion = nn.CrossEntropyLoss()\n",
    "optimizer = torch.optim.Adam(vgg16model.parameters(), lr=learning_rate, weight_decay=5*(10**(-4)))"
   ]
  },
  {
   "cell_type": "markdown",
   "metadata": {},
   "source": [
    "# Load the Dataframe\n",
    "\n",
    "Load the dataframe from the pkl file containing the filenames and the label<br/>\n",
    "If the pkl file does not exist, assign **LOAD_PICKLE** as False in the previous snippet"
   ]
  },
  {
   "cell_type": "code",
   "execution_count": 4,
   "metadata": {
    "_cell_guid": "c7e7d151-d35d-4d3a-a532-7ea7c460d087",
    "_uuid": "be378f6f-2321-4230-9fef-93f3c3d520ad",
    "id": "TRQ0r0Rcot94"
   },
   "outputs": [
    {
     "name": "stdout",
     "output_type": "stream",
     "text": [
      "Read Complete. Total number of files =  555048\n"
     ]
    }
   ],
   "source": [
    "if LOAD_PICKLE == False:\n",
    "    imagePatches = glob(DATASET_FOLDER_PATH + '**/*.png', recursive=True)\n",
    "    print('Total number of files = ', len(imagePatches))\n",
    "    y = []\n",
    "    for img in imagePatches:\n",
    "        if img.endswith('class0.png'):\n",
    "            y.append(0)\n",
    "        elif img.endswith('class1.png'):\n",
    "            y.append(1)\n",
    "    images_df = pd.DataFrame()\n",
    "    images_df[\"images\"] = imagePatches\n",
    "    images_df[\"labels\"] = y\n",
    "    images_df.to_pickle(PICKLE_PATH)\n",
    "else:\n",
    "    images_df = pd.read_pickle(PICKLE_PATH)\n",
    "    print('Read Complete. Total number of files = ', len(images_df))"
   ]
  },
  {
   "cell_type": "markdown",
   "metadata": {},
   "source": [
    "# Examine the Data"
   ]
  },
  {
   "cell_type": "code",
   "execution_count": 5,
   "metadata": {
    "_cell_guid": "c9dfc41a-7c86-4483-b931-9ccff8751bf6",
    "_uuid": "4fae5f01-c3ac-42e7-81e2-660fdd02b5ee",
    "id": "6ZRkbt6WpZ_0",
    "outputId": "be8e1894-8bb4-4774-b6b6-e9f6226e99ef"
   },
   "outputs": [
    {
     "data": {
      "text/html": [
       "<div>\n",
       "<style scoped>\n",
       "    .dataframe tbody tr th:only-of-type {\n",
       "        vertical-align: middle;\n",
       "    }\n",
       "\n",
       "    .dataframe tbody tr th {\n",
       "        vertical-align: top;\n",
       "    }\n",
       "\n",
       "    .dataframe thead th {\n",
       "        text-align: right;\n",
       "    }\n",
       "</style>\n",
       "<table border=\"1\" class=\"dataframe\">\n",
       "  <thead>\n",
       "    <tr style=\"text-align: right;\">\n",
       "      <th></th>\n",
       "      <th>images</th>\n",
       "      <th>labels</th>\n",
       "    </tr>\n",
       "  </thead>\n",
       "  <tbody>\n",
       "    <tr>\n",
       "      <th>0</th>\n",
       "      <td>../input/breast-histopathology-images/14304/1/...</td>\n",
       "      <td>1</td>\n",
       "    </tr>\n",
       "    <tr>\n",
       "      <th>1</th>\n",
       "      <td>../input/breast-histopathology-images/14304/1/...</td>\n",
       "      <td>1</td>\n",
       "    </tr>\n",
       "    <tr>\n",
       "      <th>2</th>\n",
       "      <td>../input/breast-histopathology-images/14304/1/...</td>\n",
       "      <td>1</td>\n",
       "    </tr>\n",
       "    <tr>\n",
       "      <th>3</th>\n",
       "      <td>../input/breast-histopathology-images/14304/1/...</td>\n",
       "      <td>1</td>\n",
       "    </tr>\n",
       "    <tr>\n",
       "      <th>4</th>\n",
       "      <td>../input/breast-histopathology-images/14304/1/...</td>\n",
       "      <td>1</td>\n",
       "    </tr>\n",
       "  </tbody>\n",
       "</table>\n",
       "</div>"
      ],
      "text/plain": [
       "                                              images  labels\n",
       "0  ../input/breast-histopathology-images/14304/1/...       1\n",
       "1  ../input/breast-histopathology-images/14304/1/...       1\n",
       "2  ../input/breast-histopathology-images/14304/1/...       1\n",
       "3  ../input/breast-histopathology-images/14304/1/...       1\n",
       "4  ../input/breast-histopathology-images/14304/1/...       1"
      ]
     },
     "execution_count": 5,
     "metadata": {},
     "output_type": "execute_result"
    }
   ],
   "source": [
    "# images_df = images_df[:40000]\n",
    "images_df.head()"
   ]
  },
  {
   "cell_type": "code",
   "execution_count": 6,
   "metadata": {
    "_cell_guid": "8757ac25-02fb-414b-9855-2ef97a40d0b7",
    "_uuid": "1fcf293d-1771-4930-ad29-8032f9ce907c",
    "id": "7c1dpD9Ipe0Y",
    "outputId": "58de3f98-2f6f-4a37-eff0-776744992f0e"
   },
   "outputs": [
    {
     "data": {
      "text/plain": [
       "labels\n",
       "0    397476\n",
       "1    157572\n",
       "Name: labels, dtype: int64"
      ]
     },
     "execution_count": 6,
     "metadata": {},
     "output_type": "execute_result"
    }
   ],
   "source": [
    "images_df.groupby(\"labels\")[\"labels\"].count()"
   ]
  },
  {
   "cell_type": "code",
   "execution_count": 7,
   "metadata": {
    "_cell_guid": "52a27d81-b108-4795-9bb6-4b2119a8bd18",
    "_uuid": "84dd8c94-026f-453c-9a73-527a4e2d138c",
    "id": "uJUvk7W6pfZR",
    "outputId": "da2ec51e-3591-4636-ef74-3de398c05a06"
   },
   "outputs": [
    {
     "data": {
      "text/plain": [
       "(444038, 111010)"
      ]
     },
     "execution_count": 7,
     "metadata": {},
     "output_type": "execute_result"
    }
   ],
   "source": [
    "#Splitting data into train and val\n",
    "train, val = train_test_split(images_df, stratify=images_df.labels, test_size=0.2)\n",
    "len(train), len(val)"
   ]
  },
  {
   "cell_type": "markdown",
   "metadata": {},
   "source": [
    "# Instantiate the Data loader"
   ]
  },
  {
   "cell_type": "code",
   "execution_count": 8,
   "metadata": {
    "_cell_guid": "9dd599a1-6332-48f3-8151-2db026c63de4",
    "_uuid": "8288e422-0350-45e2-a904-b8cb55025096",
    "id": "FF6dcMohpl0C"
   },
   "outputs": [],
   "source": [
    "class IDC_Dataset(Dataset):\n",
    "    def __init__(self, data_from,transform=None):\n",
    "        super().__init__()\n",
    "        '''\n",
    "        Initialize the Dataloader\n",
    "        \n",
    "        Arguments:\n",
    "        data_from  --  The dataframe with the filenames and the labels\n",
    "        transform  --  The transformation to be applied to the input for normalization and/or data augmentation\n",
    "        \n",
    "        Returns:\n",
    "        None\n",
    "        '''\n",
    "        self.data_from = data_from.values\n",
    "        self.transform = transform\n",
    "\n",
    "    def __len__(self):\n",
    "        '''\n",
    "        Calculate the number of file/data-points in the dataframe\n",
    "        \n",
    "        Arguments:\n",
    "        None\n",
    "        \n",
    "        Returns:\n",
    "        Number of files\n",
    "        '''\n",
    "        return len(self.data_from)\n",
    "    \n",
    "    def __getitem__(self, index):\n",
    "        '''\n",
    "        Based on the input index, reads a row(filename and the label) and outputs the loaded image and the label as a tensor\n",
    "        \n",
    "        Arguments:\n",
    "        index  --  The index of the dataframe row to be loaded\n",
    "        \n",
    "        Returns:\n",
    "        image  --  The image tensor of dimension [batch,channels,height,width]\n",
    "        label  --  The label for the image loaded in a tensor format. Either 0 or 1\n",
    "        '''\n",
    "        img_path,label = self.data_from[index]\n",
    "        image = cv2.imread(img_path)\n",
    "        if self.transform is not None:\n",
    "            image = self.transform(image)\n",
    "        return image, label"
   ]
  },
  {
   "cell_type": "code",
   "execution_count": 9,
   "metadata": {
    "_cell_guid": "c8d2d81d-71fd-4de1-82a5-2ad2f05c68cd",
    "_uuid": "66f1d780-206e-41c1-9c7e-8d869bd77eec",
    "id": "4txcAOp3p0Fn"
   },
   "outputs": [],
   "source": [
    "# Transformations for the traning and the validation DataLoader\n",
    "training_transformation = transforms.Compose([transforms.ToPILImage(),\n",
    "                                  transforms.Resize((64,64)), \n",
    "                                  transforms.ToTensor(),\n",
    "                                  transforms.Normalize(mean=[0.5, 0.5, 0.5],std=[0.5, 0.5, 0.5])])\n",
    "\n",
    "validation_transformation = transforms.Compose([transforms.ToPILImage(),\n",
    "                                  transforms.Resize((64,64)),\n",
    "                                  transforms.ToTensor(),\n",
    "                                  transforms.Normalize(mean=[0.5, 0.5, 0.5],std=[0.5, 0.5, 0.5])])\n",
    "\n",
    "# Instantiate the Data Loader classes\n",
    "dataset_train = IDC_Dataset(train, transform=training_transformation)\n",
    "dataset_valid = IDC_Dataset(val,transform=validation_transformation)\n",
    "\n",
    "# Instantiate the iterators\n",
    "loader_train = DataLoader(dataset_train, batch_size=batch_size, shuffle=True)\n",
    "loader_valid = DataLoader(dataset_valid, batch_size=batch_size//2, shuffle=False)"
   ]
  },
  {
   "cell_type": "code",
   "execution_count": 10,
   "metadata": {
    "_cell_guid": "cf166005-3555-4529-96de-94b901325407",
    "_uuid": "5e2dbe4d-b2ea-4148-9dab-2b7d703bed14",
    "id": "odNO41v1r0FY",
    "outputId": "36c49cd7-9e88-4a38-e711-21b393f1425c"
   },
   "outputs": [
    {
     "name": "stdout",
     "output_type": "stream",
     "text": [
      "Traning Completed\n"
     ]
    }
   ],
   "source": [
    "# Train the model\n",
    "num_epochs = 50\n",
    "resume_epoch = 50\n",
    "# loss_train = []\n",
    "if resume_epoch == 0 :\n",
    "    print(\"Start Traning\")\n",
    "elif resume_epoch == num_epochs:\n",
    "    print(\"Traning Completed\")\n",
    "else:\n",
    "    print(\"Resume Training. Last Epoch \", resume_epoch)\n",
    "    checkpoint = torch.load('../input/secondckpt/' + str(resume_epoch) + '.tar', map_location=torch.device(device))\n",
    "    vgg16model.load_state_dict(checkpoint['model_state_dict'])\n",
    "    optimizer.load_state_dict(checkpoint['optimizer_state_dict'])\n",
    "\n",
    "\n",
    "loss_train = []\n",
    "loss_valid = []\n",
    "train_length = len(loader_train)\n",
    "val_length   = len(loader_valid)\n",
    "for epoch in range(resume_epoch, num_epochs):\n",
    "    # intialize the metrics and losses to 0\n",
    "    loss_epoch = 0\n",
    "    val_loss = 0\n",
    "    accuracy_train = 0\n",
    "    accuracy_val = 0\n",
    "    f1_score_train = 0\n",
    "    f1_score_val = 0\n",
    "    jaccard_train = 0\n",
    "    jaccard_val = 0\n",
    "    # Enable traning mode \n",
    "    vgg16model.train()\n",
    "    for (images, labels) in loader_train:\n",
    "        images = images.to(device)\n",
    "        labels = labels.to(device)\n",
    "        # Forward pass\n",
    "        outputs = vgg16model(images)\n",
    "        loss = criterion(outputs, labels)\n",
    "        loss_epoch += loss.item()\n",
    "        \n",
    "        # Conversion to numpy\n",
    "        output_numpy = np.argmax(outputs.clone().detach().cpu().numpy(), axis=1).ravel()\n",
    "        labels_numpy = labels.cpu().numpy().ravel()\n",
    "        \n",
    "        # Metrics\n",
    "        accuracy_train += accuracy_score(labels_numpy, output_numpy)\n",
    "        f1_score_train += f1_score(labels_numpy, output_numpy, average='weighted')\n",
    "        jaccard_train += jaccard_score(labels_numpy, output_numpy, average='weighted')\n",
    "        \n",
    "        # Backward and optimize\n",
    "        optimizer.zero_grad()\n",
    "        loss.backward()\n",
    "        optimizer.step()\n",
    "    # Print the outputs\n",
    "    print(\"Epoch : \", epoch + 1, \" Loss : \", loss_epoch/train_length, \" Accuracy : \", accuracy_train/train_length,\" F1/Dice : \", f1_score_train/train_length, \" Jaccard/IoU : \", jaccard_train/train_length)\n",
    "    if((epoch+1) % 10 == 0):\n",
    "        print('Saving model stats')\n",
    "        torch.save({\n",
    "            'epoch': epoch+1,\n",
    "            'model_state_dict': vgg16model.state_dict(),\n",
    "            'optimizer_state_dict': optimizer.state_dict(),\n",
    "            'loss': loss_epoch}, CHECKPOINT_PATH + str(epoch+1) + '.tar')\n",
    "    loss_train.append(loss_epoch)\n",
    "\n",
    "    # Validation\n",
    "    # Enable evaluation mode\n",
    "    vgg16model.eval()\n",
    "    with torch.no_grad():\n",
    "        for images, labels in loader_valid:\n",
    "            images = images.to(device)\n",
    "            labels = labels.to(device)\n",
    "            outputs = vgg16model(images)\n",
    "            \n",
    "            # Conversion to numpy\n",
    "            output_numpy = np.argmax(outputs.clone().detach().cpu().numpy(), axis=1).ravel()\n",
    "            labels_numpy = labels.cpu().numpy().ravel()\n",
    "            \n",
    "            # Metrics\n",
    "            accuracy_val += accuracy_score(labels_numpy, output_numpy)\n",
    "            f1_score_val += f1_score(labels_numpy, output_numpy, average='weighted')\n",
    "            jaccard_val += jaccard_score(labels_numpy, output_numpy, average='weighted')\n",
    "\n",
    "            val_loss += criterion(outputs, labels)\n",
    "        save_file = open('save.txt', 'a')\n",
    "        print(\"Validation Loss : \", val_loss.item()/val_length, \" Accuracy : \", accuracy_val/val_length, \" F1/Dice : \", f1_score_val/val_length, \" Jaccard/IoU : \", jaccard_val/val_length, file=save_file)\n",
    "        print(\" \", file=save_file)\n",
    "        save_file.close\n",
    "        print()"
   ]
  },
  {
   "cell_type": "markdown",
   "metadata": {},
   "source": [
    "# Testing Loop"
   ]
  },
  {
   "cell_type": "code",
   "execution_count": 11,
   "metadata": {
    "id": "poKVm5Q6TSVA",
    "outputId": "26718737-f091-4e23-fd2d-78f1132f7188"
   },
   "outputs": [
    {
     "data": {
      "application/vnd.jupyter.widget-view+json": {
       "model_id": "5a7a3e48c636430daf202da08d235d1c",
       "version_major": 2,
       "version_minor": 0
      },
      "text/plain": [
       "HBox(children=(FloatProgress(value=0.0, max=3470.0), HTML(value='')))"
      ]
     },
     "metadata": {},
     "output_type": "display_data"
    },
    {
     "name": "stdout",
     "output_type": "stream",
     "text": [
      "\n",
      " Accuracy :  0.895064841498559  Jaccard/IoU :  0.8213702044697411\n",
      "F1/Dice :  0.8973128812161003  Precision :  0.9077056461101652  Recall :  0.895064841498559\n"
     ]
    }
   ],
   "source": [
    "accuracy_test  = 0\n",
    "f1_score_test   = 0\n",
    "jaccard_test  = 0\n",
    "precision_test = 0\n",
    "recall_test = 0\n",
    "pred_list  = []\n",
    "label_list = []\n",
    "\n",
    "# Load the model state dictionary\n",
    "checkpoint = torch.load('../input/finalckpt/' + str(50) + '.tar', map_location=torch.device(device))\n",
    "vgg16model.load_state_dict(checkpoint['model_state_dict'])\n",
    "\n",
    "# Enable testing mode\n",
    "vgg16model.eval()\n",
    "test_length = len(loader_valid)\n",
    "\n",
    "with torch.no_grad():\n",
    "    for images, labels in tqdm(loader_valid):\n",
    "        # Seat the images and labels to the designated device\n",
    "        images = images.to(device)\n",
    "        labels = labels.to(device)\n",
    "        # Calculate model output\n",
    "        outputs = vgg16model(images)\n",
    "        \n",
    "        # Convert output to numpy variables\n",
    "        output_numpy = np.argmax(outputs.clone().detach().cpu().numpy(), axis=1).ravel()\n",
    "        labels_numpy = labels.cpu().numpy().ravel()\n",
    "        \n",
    "        # Metric Calculation\n",
    "        accuracy_test += accuracy_score(labels_numpy, output_numpy)\n",
    "        f1_score_test  += f1_score(labels_numpy, output_numpy, average='weighted')\n",
    "        jaccard_test += jaccard_score(labels_numpy, output_numpy, average='weighted')\n",
    "        precision_test += precision_score(labels_numpy, output_numpy, average='weighted')\n",
    "        recall_test += recall_score(labels_numpy, output_numpy, average='weighted')\n",
    "        \n",
    "        pred_list.append(output_numpy)\n",
    "        label_list.append(labels_numpy)\n",
    "    print(\" Accuracy : \", accuracy_test/test_length, \" Jaccard/IoU : \", jaccard_test/test_length)\n",
    "    print(\"F1/Dice : \", f1_score_test/test_length, \" Precision : \", precision_test/test_length, \" Recall : \", recall_test/test_length)"
   ]
  },
  {
   "cell_type": "markdown",
   "metadata": {},
   "source": [
    "# Calculate the Confusion Matrix"
   ]
  },
  {
   "cell_type": "code",
   "execution_count": 12,
   "metadata": {
    "id": "kRH04L2QTSVH"
   },
   "outputs": [
    {
     "data": {
      "text/plain": [
       "array([[71751,  7744],\n",
       "       [ 3908, 27607]])"
      ]
     },
     "execution_count": 12,
     "metadata": {},
     "output_type": "execute_result"
    }
   ],
   "source": [
    "label_list = np.concatenate(label_list)\n",
    "pred_list = np.concatenate(pred_list)\n",
    "cm = confusion_matrix(label_list.ravel(), pred_list.ravel())\n",
    "cm"
   ]
  },
  {
   "cell_type": "markdown",
   "metadata": {},
   "source": [
    "# Plot the Confusion Matrix"
   ]
  },
  {
   "cell_type": "code",
   "execution_count": 13,
   "metadata": {
    "id": "2xi7QhXETSVM",
    "outputId": "0441499f-649c-4cbf-dedc-1a3a5aeb64d4"
   },
   "outputs": [
    {
     "data": {
      "image/png": "[encoded data removed]",
      "text/plain": [
       "<Figure size 432x288 with 2 Axes>"
      ]
     },
     "metadata": {
      "needs_background": "light"
     },
     "output_type": "display_data"
    }
   ],
   "source": [
    "fig = plt.figure()\n",
    "ax = fig.add_subplot(111)\n",
    "cax = ax.matshow(cm, interpolation='nearest')\n",
    "fig.colorbar(cax)\n",
    "ax.set_xticklabels(['']+['0', '1'])\n",
    "ax.set_yticklabels(['']+['0', '1'])\n",
    "plt.title('Confusion Matrix')\n",
    "plt.show()"
   ]
  }
 ],
 "metadata": {
  "kernelspec": {
   "display_name": "Python 3",
   "language": "python",
   "name": "python3"
  },
  "language_info": {
   "codemirror_mode": {
    "name": "ipython",
    "version": 3
   },
   "file_extension": ".py",
   "mimetype": "text/x-python",
   "name": "python",
   "nbconvert_exporter": "python",
   "pygments_lexer": "ipython3",
   "version": "3.7.3"
  }
 },
 "nbformat": 4,
 "nbformat_minor": 4
}
